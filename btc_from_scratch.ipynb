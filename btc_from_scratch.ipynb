{
 "cells": [
  {
   "cell_type": "markdown",
   "metadata": {},
   "source": [
    "# Bitcoin from scratch\n",
    "\n",
    "Bitcoin is a software program that runs on a decentralized network of computers. The software defines the rules of Bitcoin, including how transactions are verified and how new bitcoins are created.\n",
    "Bitcoin uses cryptography to secure transactions and to prevent fraud. Cryptography is the science of encrypting and decrypting data. In Bitcoin, cryptography is used to create digital signatures, which are used to verify the authenticity of transactions.\n",
    "\n",
    "Bitcoin is a decentralized currency, meaning that it is not controlled by any central authority. The Bitcoin network is run by a network of volunteers around the world.\n",
    "All Bitcoin transactions are recorded on the blockchain, which is a public ledger. This means that anyone can view the history of Bitcoin transactions.\n",
    "\n",
    "The purpose of this notebook is to discover and analyze as deeply as possible the various components of Bitcoin. The final goal is to create, digitally sign, and broadcast a Bitcoin transaction.\n",
    "\n",
    "By the end of this notebook, you will have a better understanding of how a Bitcoin transaction works.\n",
    "You will be able to create, digitally sign, and broadcast your own Bitcoin transactions. You will also be able to understand the security and privacy implications of Bitcoin.\n",
    "\n",
    "Here is a roadmap of the notebook:\n",
    "\n",
    "1) [Introduction to the cryptography behind Bitcoin](/notebooks/intro.ipynb)\n",
    "- Concept of Finite field\n",
    "- Modular arithmetic\n",
    "- Elliptic Curve Cryptography (ECC)\n",
    "2) [Generation of the Crypto identity](/notebooks/intro.ipynb)\n",
    "- Generation of the Private key\n",
    "- Generate the Public key from the Private key\n",
    "- Generation of the Bitcoin address\n",
    "3) [Bitcoin Wallets](/notebooks/wallets.ipynb)\n",
    "- (WIP)\n",
    "4) [Bitcoin Transactions](/notebooks/transactions.ipynb)\n",
    "- (WIP)\n",
    "5) [The Bitcoin Network](/notebooks/network.ipynb)\n",
    "- (WIP)\n",
    "6) [The Bitcoin Mining](/notebooks/mining.ipynb)\n",
    "- Mining (WIP)\n",
    "- Consensus (WIP)"
   ]
  }
 ],
 "metadata": {
  "kernelspec": {
   "display_name": ".venv",
   "language": "python",
   "name": "python3"
  },
  "language_info": {
   "name": "python",
   "version": "3.11.4"
  },
  "orig_nbformat": 4
 },
 "nbformat": 4,
 "nbformat_minor": 2
}
