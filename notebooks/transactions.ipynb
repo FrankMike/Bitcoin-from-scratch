{
 "cells": [
  {
   "cell_type": "markdown",
   "metadata": {},
   "source": [
    "# 4. Bitcoin Transactions\n",
    "\n",
    "Transactions are the most important part of the Bitcoin system. Transactions are data structures that encode the transfer of value between participants in the Bitcoin system.\n",
    "A transaction is composed of four main components:\n",
    "- Version\n",
    "- Inputs\n",
    "- Outputs\n",
    "- Locktime\n",
    "\n",
    "The main part of a Bitcoin transaction is the *transaction output*. Transaction outputs are <strong>indivisible</strong> portions bitcoin currency. Full nodes track all available and spendable outputs, aka *Unspent Transaction Outputs* (UTXOs). The collection of all UTXOs is a *UTXO set*. A UTXO set grows and shrinks as the UTXO is created or a UTXO is consumed.\n"
   ]
  },
  {
   "cell_type": "code",
   "execution_count": null,
   "metadata": {},
   "outputs": [],
   "source": []
  }
 ],
 "metadata": {
  "language_info": {
   "name": "python"
  },
  "orig_nbformat": 4
 },
 "nbformat": 4,
 "nbformat_minor": 2
}
