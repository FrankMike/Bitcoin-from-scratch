{
 "cells": [
  {
   "cell_type": "markdown",
   "source": [
    "# Bitcoin from scratch\n",
    "\n",
    "Bitcoin is a software program that runs on a decentralized network of computers. The software defines the rules of Bitcoin, including how transactions are verified and how new bitcoins are created.\n",
    "Bitcoin uses cryptography to secure transactions and to prevent fraud. Cryptography is the science of encrypting and decrypting data. In Bitcoin, cryptography is used to create digital signatures, which are used to verify the authenticity of transactions.\n",
    "\n",
    "Bitcoin is a decentralized currency, meaning that it is not controlled by any central authority. The Bitcoin network is run by a network of volunteers around the world.\n",
    "All Bitcoin transactions are recorded on the blockchain, which is a public ledger. This means that anyone can view the history of Bitcoin transactions.\n",
    "\n",
    "The purpose of this notebook is to discover and analyze as deeply as possible the various components of Bitcoin. The final goal is to create, digitally sign, and broadcast a Bitcoin transaction.\n",
    "\n",
    "By the end of this notebook, you will have a better understanding of how a Bitcoin transaction works.\n",
    "You will be able to create, digitally sign, and broadcast your own Bitcoin transactions. You will also be able to understand the security and privacy implications of Bitcoin.\n",
    "\n",
    "Here is a roadmap of the notebook:\n",
    "\n",
    "1) Introduction to the cryptography behind Bitcoin\n",
    "- Concept of Finite field\n",
    "- Modular arithmetic\n",
    "- Elliptic Curve Cryptography (ECC)\n",
    "2) Generation of the Crypto identity\n",
    "- Generation of the Private key\n",
    "- Generate the Public key from the Private key\n",
    "- Generation of the Bitcoin address\n",
    "\n",
    "\n",
    "## Introduction to the cryptography behind Bitcoin\n",
    "\n",
    "### Finite fields\n",
    "\n",
    "Finite fields, also known as Galois fields, are fundamental mathematical structures used in various fields, including algebra, coding theory, cryptography, and computer science.\n",
    "\n",
    "A field is a mathematical structure that consists of a set of elements along with two binary operations: addition and multiplication, which satisfy certain properties.\n",
    "Specifically, a field must satisfy the following conditions:\n",
    "- Closure: The result of addition or multiplication of any two elements in the field is also an element in the field.\n",
    "- Associativity: Addition and multiplication operations are associative.\n",
    "- Commutativity: Both addition and multiplication are commutative; the order of operands does not matter.\n",
    "- Identity Elements: There exist unique elements called the additive and multiplicative identities (denoted as 0 and 1, respectively) such that adding or multiplying any element by these identities leaves the element unchanged.\n",
    "- Inverse Elements: Every nonzero element in the field has a unique additive and multiplicative inverse.\n",
    "- Distributive Property: Multiplication distributes over addition.\n",
    "\n",
    "A finite field is a field that has a finite number of elements. The order of a finite field is the number of elements it contains. For any finite field, the order is a prime power, represented as \"q,\" where \"q\" is a prime number raised to a positive integer power.\n",
    "\n",
    "The characteristic of a finite field is the smallest positive integer \"p\" such that summing \"p\" copies of the multiplicative identity (1) yields the additive identity (0). The characteristic can be either a prime number or zero. If the characteristic is zero, the field is said to have characteristic zero.\n",
    "\n",
    "Finite fields can be constructed using various methods, but the most common method is through polynomial construction. For each prime power \"q,\" there exists a unique (up to isomorphism) finite field of order \"q.\" This finite field is denoted as GF(q) or Fq. The elements of a finite field Fq are usually denoted as 0, 1, 2, ..., q-1.\n",
    "\n",
    "Finite fields can have subfields, which are smaller fields contained within the original finite field. These subfields can also be finite fields themselves. Additionally, one can create extensions of finite fields by defining new finite fields with larger orders.\n",
    "\n",
    "For each prime power \"q,\" there is a unique finite field of order \"q\" up to isomorphism. This means that any two finite fields of the same order are essentially the same in terms of their algebraic properties, even though they might be represented with different sets of elements.\n",
    "\n",
    "The study of finite fields is closely related to Galois theory, a branch of abstract algebra. Galois theory explores the relationship between field extensions and symmetries of polynomial equations. Finite fields are an important example of finite field extensions in Galois theory."
   ],
   "metadata": {
    "collapsed": false
   }
  },
  {
   "cell_type": "code",
   "execution_count": null,
   "outputs": [],
   "source": [
    "# Some imports\n",
    "from __future__ import annotations # https://peps.python.org/pep-0563/ PEP 563 – Postponed Evaluation of Annotations\n",
    "from dataclasses import dataclass # https://docs.python.org/3/library/dataclasses.html This module provides a decorator and functions for automatically adding generated special methods such as __init__() and __repr__() to user-defined classes.\n"
   ],
   "metadata": {
    "collapsed": false
   }
  },
  {
   "cell_type": "code",
   "execution_count": 1,
   "metadata": {
    "collapsed": true,
    "ExecuteTime": {
     "end_time": "2023-07-20T18:53:25.298436400Z",
     "start_time": "2023-07-20T18:53:25.291355700Z"
    }
   },
   "outputs": [],
   "source": [
    "# Constructing a finite field\n",
    "class FieldElement:\n",
    "\n",
    "    def __init__(self, num, prime):\n",
    "        if num >= prime or num < 0:\n",
    "            error = 'Num {} not in field range 0 to {}'.format(num, prime - 1)\n",
    "            raise ValueError(error)\n",
    "        self.num = num\n",
    "        self.prime = prime\n",
    "\n",
    "    def __repr__(self):\n",
    "        return 'FieldElement_{}({})'.format(self.prime, self.num)\n",
    "\n",
    "    # Equal\n",
    "    def __eq__(self, other):\n",
    "        if other is None:\n",
    "            return False\n",
    "        return self.num == other.num and self.prime == other.prime\n",
    "\n",
    "    # Not equal\n",
    "    def __ne__(self, other):\n",
    "        return not (self == other)\n",
    "\n",
    "    # Addition\n",
    "    def __add__(self, other):\n",
    "        if self.prime != other.prime:\n",
    "            raise TypeError('Cannot add two numbers in different fields')\n",
    "        num = (self.num + other.num) % self.prime\n",
    "        return self.__class__(num, self.prime)\n",
    "\n",
    "    # Subtraction\n",
    "    def __sub__(self, other):\n",
    "        if self.prime != other.prime:\n",
    "            raise TypeError('Cannot subtract two numbers in different fields')\n",
    "        num = (self.num - other.num) % self.prime\n",
    "        return self.__class__(num, self.prime)\n",
    "\n",
    "    # Multiplication\n",
    "    def __mul__(self, other):\n",
    "        if self.prime != other.prime:\n",
    "            raise TypeError('Cannot multiply two numbers in different fields')\n",
    "        num = (self.num * other.num) % self.prime\n",
    "        return self.__class__(num, self.prime)\n",
    "\n",
    "    # Division\n",
    "    # use the Fermat's little theorem:\n",
    "    # self.num**(p-1) % p == 1\n",
    "    # that means 1/n == pow(n, p-2, p)\n",
    "    def __truediv__(self, other):\n",
    "        if self.prime != other.prime:\n",
    "            raise TypeError('Cannot divide two numbers in different Fields')\n",
    "        num = self.num * pow(other.num, self.prime - 2, self.prime) % self.prime\n",
    "        return self.__class__(num, self.prime)\n",
    "\n",
    "    # redefining the pow function\n",
    "    def __pow__(self, exponent):\n",
    "        n = exponent % (self.prime-1)\n",
    "        num = pow(self.num, n, self.prime)\n",
    "        return self.__class__(num, self.prime)\n"
   ]
  },
  {
   "cell_type": "code",
   "execution_count": 2,
   "outputs": [
    {
     "name": "stdout",
     "output_type": "stream",
     "text": [
      "False\n"
     ]
    }
   ],
   "source": [
    "a = FieldElement(7, 13)\n",
    "b = FieldElement(6, 13)\n",
    "\n",
    "print(a == b)   # False\n"
   ],
   "metadata": {
    "collapsed": false,
    "ExecuteTime": {
     "end_time": "2023-07-20T18:53:28.210021400Z",
     "start_time": "2023-07-20T18:53:28.164108600Z"
    }
   }
  },
  {
   "cell_type": "markdown",
   "source": [
    "### Modulo arithmetic\n",
    "\n",
    "Modulo arithmetic, also known as clock arithmetic or modular arithmetic, is a fundamental branch of arithmetic that deals with numbers' remainders after division. It is a way of performing arithmetic operations on integers that are constrained to a fixed positive integer, known as the modulus.\n",
    "\n",
    "In the context of modulo arithmetic, let's consider two integers: a (the dividend) and m (the modulus), where m is a positive integer greater than 1. The symbol used to denote the modulo operation is \"mod.\" The result of the modulo operation is the remainder obtained when dividing 'a' by 'm.'\n",
    "\n",
    "Mathematically, the modulo operation is represented as:\n",
    "\n",
    "a mod m = r\n",
    "\n",
    "Here, 'r' represents the remainder obtained when 'a' is divided by 'm.'\n",
    "\n",
    "Key properties of modulo arithmetic:\n",
    "\n",
    "Range constraint: The result of the modulo operation is always within the range of 0 to (m - 1). In other words, 0 ≤ (a mod m) ≤ (m - 1).\n",
    "\n",
    "Congruence: If two integers 'a' and 'b' have the same remainder when divided by 'm,' they are said to be congruent modulo 'm,' represented as a ≡ b (mod m). This means (a mod m) = (b mod m).\n",
    "\n",
    "Common arithmetic operations in modulo arithmetic:\n",
    "\n",
    "Addition: To perform addition in modulo arithmetic, simply add the two numbers and take the result modulo 'm.'\n",
    "\n",
    "(a + b) mod m = (a mod m + b mod m) mod m\n",
    "\n",
    "Subtraction: To perform subtraction, similarly subtract the two numbers and take the result modulo 'm.'\n",
    "\n",
    "(a - b) mod m = (a mod m - b mod m) mod m\n",
    "\n",
    "Multiplication: For multiplication, multiply the two numbers and then take the result modulo 'm.'\n",
    "\n",
    "(a * b) mod m = (a mod m * b mod m) mod m\n",
    "\n",
    "Exponentiation: For exponentiation, raise 'a' to the power of 'b' and take the result modulo 'm.'\n",
    "\n",
    "(a^b) mod m = (a mod m)^b mod m\n",
    "\n",
    "Modulo arithmetic finds numerous applications in various fields, including computer science, cryptography, number theory, and digital signal processing. In computer science, it is used in hashing functions, random number generation, and cyclic data structures. In cryptography, it forms the basis of some encryption and decryption algorithms.\n",
    "\n",
    "Modulo arithmetic has a cyclical nature, akin to a clock that repeats itself after completing a full circle. This property makes it a valuable tool in solving problems involving periodicity and repetitions.\n"
   ],
   "metadata": {
    "collapsed": false
   }
  },
  {
   "cell_type": "code",
   "execution_count": 5,
   "outputs": [
    {
     "name": "stdout",
     "output_type": "stream",
     "text": [
      "True\n",
      "True\n",
      "True\n",
      "True\n"
     ]
    }
   ],
   "source": [
    "# Addition on a finite field\n",
    "\n",
    "a = FieldElement(7, 19)\n",
    "b = FieldElement(8, 19)\n",
    "c = FieldElement(15, 19)\n",
    "\n",
    "# (7 + 8) % 19 = 15\n",
    "print(a+b==c) # True\n",
    "\n",
    "# Multiplication on a finite field\n",
    "a = FieldElement(3, 13)\n",
    "b = FieldElement(12, 13)\n",
    "c = FieldElement(10, 13)\n",
    "\n",
    "print(a*b==c) # True\n",
    "\n",
    "# Exponentiation on a finite field\n",
    "a = FieldElement(3, 13)\n",
    "b = FieldElement(1, 13)\n",
    "\n",
    "print(a**3==b) # True\n",
    "\n",
    "# Division on a finite field\n",
    "\"\"\"\n",
    "In normal math, division is the inverse of multiplication\n",
    "7 x 8 = 56 implies that 56 / 8 = 7\n",
    "12 x 2 = 24 implies that 24 / 12 = 2\n",
    "Dividing any two numbers where the denominator is not 0 will result in another finite field element.\n",
    "n^(p-1) is always is 1 for every p that is prime and every n>0. This comes from number theory called Fermat's little theorem.\n",
    "n^(p-1)%p=1\n",
    "where p is prime.\n",
    "{1 x 2 x 3 ... x (p-2) x (p-1) % p = n x 2n x 3n x ... x (p-2)n x (p-1)n % p}\n",
    "\"\"\"\n",
    "\n",
    "a = FieldElement(3, 31)\n",
    "b = FieldElement(24, 31)\n",
    "c = FieldElement(4, 31)\n",
    "\n",
    "print(a/b==c) # True\n"
   ],
   "metadata": {
    "collapsed": false,
    "ExecuteTime": {
     "end_time": "2023-07-21T08:07:48.727007100Z",
     "start_time": "2023-07-21T08:07:48.708859600Z"
    }
   }
  },
  {
   "cell_type": "markdown",
   "source": [
    "### Elliptic Curve Cryptography\n",
    "\n",
    "Elliptic Curve Cryptography (ECC) is a type of asymmetric or public key cryptography based on the algebraic structures of the elliptic curves over finite fields and on the discrete logarithm problem as expressed by addition and multiplication on the points of the curve.\n",
    "\n",
    "The foundation of ECC lies in the mathematical properties of elliptic curves. An elliptic curve is a smooth curve defined by an equation of the form:\n",
    "\n",
    "y^2 = x^3 + ax + b\n",
    "\n",
    "'a' and 'b' are constants that define the specific curve's shape, and the coordinates 'x' and 'y' represent points on the curve. However, these coordinates must satisfy certain conditions. One key property of elliptic curves is that they have an additive group structure, allowing for point addition and scalar multiplication operations.\n",
    "\n",
    "ECC uses this group structure to create cryptographic key pairs: a private key and a corresponding public key. The private keys in the ECC (usually denoted as 'd') are integers (in the range of the curve's field size, tipically 256-bit integers).\n",
    "The key generation in the ECC cryptography is as simple as securely generating a random integer in certain range, so any number within the range is a valid ECC private key.\n",
    "\n",
    "The public key is a point on the elliptic curve obtained by multiplying the generator point (a specific, fixed point on the curve) by the private key\n",
    "\n",
    "Public key (P) = Private key (d) * Generator point (G)\n",
    "\n",
    "ECC crypto algorithms can use different underlying elliptic curves. Different curves provide different levels of security, performance and key length.\n",
    "\n",
    "A point at infinity is needed to be part of the curve, and this point can be denoted as 0 (zero).\n",
    "\n",
    "The ECC uses elliptic curves over the finite field Fp, where p is prime and p > 3.\n",
    "This means that the field is a square matrix of size p x p and the points on the curve are limited to integer coordinates within the field only.\n",
    "\n",
    "ECC is employed in two primary cryptographic functions: key exchange and digital signatures.\n",
    "\n",
    "1) Key Exchange:\n",
    "ECC allows two parties to agree on a shared secret key over an insecure channel securely. The parties exchange their public keys, perform point multiplication using their private keys and the received public keys, and arrive at the same shared secret point. This point is then used to derive a symmetric encryption key or to initialize a secure communication session.\n",
    "\n",
    "2) Digital Signatures:\n",
    "In ECC-based digital signatures, the private key holder signs a message using their private key to produce a unique signature. The signature can be publicly verified using the corresponding public key. Verifying the signature involves performing point operations to ensure the authenticity and integrity of the message.\n",
    "\n",
    "Overall, Elliptic Curve Cryptography offers strong security with relatively smaller key sizes compared to traditional cryptographic algorithms, making it a popular choice for various applications in the modern digital landscape, including secure communications, digital signatures, and secure key exchange protocols.\n"
   ],
   "metadata": {
    "collapsed": false
   }
  }
 ],
 "metadata": {
  "kernelspec": {
   "display_name": "Python 3",
   "language": "python",
   "name": "python3"
  },
  "language_info": {
   "codemirror_mode": {
    "name": "ipython",
    "version": 2
   },
   "file_extension": ".py",
   "mimetype": "text/x-python",
   "name": "python",
   "nbconvert_exporter": "python",
   "pygments_lexer": "ipython2",
   "version": "2.7.6"
  }
 },
 "nbformat": 4,
 "nbformat_minor": 0
}
